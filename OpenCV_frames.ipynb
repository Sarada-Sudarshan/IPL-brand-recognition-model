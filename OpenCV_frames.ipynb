{
  "nbformat": 4,
  "nbformat_minor": 0,
  "metadata": {
    "colab": {
      "provenance": []
    },
    "kernelspec": {
      "name": "python3",
      "display_name": "Python 3"
    },
    "language_info": {
      "name": "python"
    }
  },
  "cells": [
    {
      "cell_type": "code",
      "execution_count": null,
      "metadata": {
        "id": "CJdYDN0eXaKf",
        "colab": {
          "base_uri": "https://localhost:8080/"
        },
        "outputId": "f13e4635-225e-42be-82c8-8f5984136c7d"
      },
      "outputs": [
        {
          "output_type": "stream",
          "name": "stdout",
          "text": [
            "Successfully captured 91 frames.\n"
          ]
        }
      ],
      "source": [
        "import cv2\n",
        "\n",
        "# Open the video file\n",
        "video_capture = cv2.VideoCapture('RR vs RCB.mp4')\n",
        "\n",
        "# Check if the video file opened successfully\n",
        "if not video_capture.isOpened():\n",
        "    print(\"Error: Unable to open video file.\")\n",
        "    exit()\n",
        "\n",
        "frame_count = 0\n",
        "frame_rate = 1  # Capture frames every 1 second\n",
        "prev_time = 0\n",
        "\n",
        "# Loop through each frame in the video\n",
        "while True:\n",
        "    # Read the next frame\n",
        "    ret, frame = video_capture.read()\n",
        "\n",
        "    # Check if frame was successfully read\n",
        "    if not ret:\n",
        "        break\n",
        "\n",
        "    # Get the current time in seconds\n",
        "    current_time = video_capture.get(cv2.CAP_PROP_POS_MSEC) / 1000\n",
        "\n",
        "    # Check if 1 second has elapsed since the previous frame capture\n",
        "    if current_time - prev_time >= frame_rate:\n",
        "        # Save the frame as an image file (you can adjust the path and file format as needed)\n",
        "        cv2.imwrite(f'frame_{frame_count}.jpg', frame)\n",
        "\n",
        "        # Increment frame count\n",
        "        frame_count += 1\n",
        "\n",
        "        # Update the previous capture time\n",
        "        prev_time = current_time\n",
        "\n",
        "# Release the video capture object and close any open windows\n",
        "video_capture.release()\n",
        "cv2.destroyAllWindows()\n",
        "\n",
        "print(f\"Successfully captured {frame_count} frames.\")\n",
        "\n"
      ]
    }
  ]
}